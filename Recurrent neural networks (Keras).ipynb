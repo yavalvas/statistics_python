{
 "cells": [
  {
   "cell_type": "code",
   "execution_count": 2,
   "metadata": {},
   "outputs": [],
   "source": [
    "from keras.preprocessing import sequence\n",
    "from keras.models import Sequential\n",
    "from keras.layers import Dense, Embedding\n",
    "from keras.layers import LSTM\n",
    "from keras.datasets import imdb"
   ]
  },
  {
   "cell_type": "code",
   "execution_count": 3,
   "metadata": {},
   "outputs": [
    {
     "name": "stdout",
     "output_type": "stream",
     "text": [
      "Downloading data from https://s3.amazonaws.com/text-datasets/imdb.npz\n",
      "17260544/17464789 [============================>.] - ETA: 0s"
     ]
    }
   ],
   "source": [
    "(x_train, y_train), (x_test, y_test) = imdb.load_data(num_words=20000)"
   ]
  },
  {
   "cell_type": "code",
   "execution_count": 5,
   "metadata": {},
   "outputs": [],
   "source": [
    "x_train = sequence.pad_sequences(x_train, maxlen=80)#Truncating only 80 symbols of review\n",
    "x_test = sequence.pad_sequences(x_test, maxlen=80)"
   ]
  },
  {
   "cell_type": "code",
   "execution_count": 6,
   "metadata": {
    "collapsed": true
   },
   "outputs": [],
   "source": [
    "model = Sequential()\n",
    "model.add(Embedding(20000, 128))\n",
    "model.add(LSTM(128, dropout=0.2, recurrent_dropout=0.2))\n",
    "model.add(Dense(1, activation='sigmoid'))"
   ]
  },
  {
   "cell_type": "code",
   "execution_count": 9,
   "metadata": {
    "collapsed": true
   },
   "outputs": [],
   "source": [
    "model.compile(loss='binary_crossentropy',\n",
    "              optimizer='adam',\n",
    "              metrics=['accuracy'])"
   ]
  },
  {
   "cell_type": "code",
   "execution_count": 10,
   "metadata": {},
   "outputs": [
    {
     "name": "stdout",
     "output_type": "stream",
     "text": [
      "Train on 25000 samples, validate on 25000 samples\n",
      "Epoch 1/15\n",
      "200s - loss: 0.4578 - acc: 0.7838 - val_loss: 0.3922 - val_acc: 0.8251\n",
      "Epoch 2/15\n",
      "223s - loss: 0.2956 - acc: 0.8801 - val_loss: 0.3696 - val_acc: 0.8379\n",
      "Epoch 3/15\n",
      "261s - loss: 0.2078 - acc: 0.9207 - val_loss: 0.4252 - val_acc: 0.8325\n",
      "Epoch 4/15\n",
      "235s - loss: 0.1472 - acc: 0.9446 - val_loss: 0.4717 - val_acc: 0.8321\n",
      "Epoch 5/15\n",
      "219s - loss: 0.1063 - acc: 0.9617 - val_loss: 0.5367 - val_acc: 0.8252\n",
      "Epoch 6/15\n",
      "225s - loss: 0.0762 - acc: 0.9738 - val_loss: 0.7104 - val_acc: 0.8186\n",
      "Epoch 7/15\n",
      "224s - loss: 0.0514 - acc: 0.9823 - val_loss: 0.7942 - val_acc: 0.8144\n",
      "Epoch 8/15\n",
      "230s - loss: 0.0406 - acc: 0.9868 - val_loss: 0.8394 - val_acc: 0.8154\n",
      "Epoch 9/15\n",
      "227s - loss: 0.0323 - acc: 0.9897 - val_loss: 0.8269 - val_acc: 0.8148\n",
      "Epoch 10/15\n",
      "239s - loss: 0.0277 - acc: 0.9911 - val_loss: 0.7993 - val_acc: 0.8134\n",
      "Epoch 11/15\n",
      "226s - loss: 0.0218 - acc: 0.9927 - val_loss: 0.9352 - val_acc: 0.8119\n",
      "Epoch 12/15\n",
      "221s - loss: 0.0158 - acc: 0.9951 - val_loss: 0.9322 - val_acc: 0.7960\n",
      "Epoch 13/15\n",
      "205s - loss: 0.0156 - acc: 0.9946 - val_loss: 1.0805 - val_acc: 0.8133\n",
      "Epoch 14/15\n",
      "203s - loss: 0.0121 - acc: 0.9960 - val_loss: 1.0779 - val_acc: 0.8126\n",
      "Epoch 15/15\n",
      "211s - loss: 0.0082 - acc: 0.9975 - val_loss: 1.1408 - val_acc: 0.8092\n"
     ]
    },
    {
     "data": {
      "text/plain": [
       "<keras.callbacks.History at 0x2a541b3ef60>"
      ]
     },
     "execution_count": 10,
     "metadata": {},
     "output_type": "execute_result"
    }
   ],
   "source": [
    "model.fit(x_train, y_train, batch_size=32, epochs=15, verbose=2, validation_data=(x_test, y_test)) # batch size 32 reviews at once"
   ]
  },
  {
   "cell_type": "code",
   "execution_count": 11,
   "metadata": {},
   "outputs": [
    {
     "name": "stdout",
     "output_type": "stream",
     "text": [
      "Score:  1.14075344609\n"
     ]
    }
   ],
   "source": [
    "score, accuracy = model.evaluate(\n",
    "    x_test,\n",
    "    y_test,\n",
    "    batch_size=32,\n",
    "    verbose=2\n",
    ")\n",
    "print(\"Score: \", score)\n",
    "print(\"Accuracy: \", accuracy)"
   ]
  }
 ],
 "metadata": {
  "kernelspec": {
   "display_name": "Python 3",
   "language": "python",
   "name": "python3"
  },
  "language_info": {
   "codemirror_mode": {
    "name": "ipython",
    "version": 3
   },
   "file_extension": ".py",
   "mimetype": "text/x-python",
   "name": "python",
   "nbconvert_exporter": "python",
   "pygments_lexer": "ipython3",
   "version": "3.6.1"
  }
 },
 "nbformat": 4,
 "nbformat_minor": 2
}
